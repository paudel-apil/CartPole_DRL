{
  "nbformat": 4,
  "nbformat_minor": 0,
  "metadata": {
    "colab": {
      "provenance": []
    },
    "kernelspec": {
      "name": "python3",
      "display_name": "Python 3"
    },
    "language_info": {
      "name": "python"
    }
  },
  "cells": [
    {
      "cell_type": "markdown",
      "source": [
        "##Import required libraries"
      ],
      "metadata": {
        "id": "0MEvQYYpwIeT"
      }
    },
    {
      "cell_type": "code",
      "source": [
        "import gymnasium as gym"
      ],
      "metadata": {
        "id": "U02hw80LvMh8"
      },
      "execution_count": 3,
      "outputs": []
    },
    {
      "cell_type": "code",
      "source": [
        "from stable_baselines3 import PPO\n",
        "from stable_baselines3.common.evaluation import evaluate_policy\n",
        "from stable_baselines3.common.monitor import Monitor"
      ],
      "metadata": {
        "id": "wQHtQyvuvxhY"
      },
      "execution_count": 8,
      "outputs": []
    },
    {
      "cell_type": "markdown",
      "source": [
        "##Creating the cartpole environment"
      ],
      "metadata": {
        "id": "IQ0aw8iEwWiI"
      }
    },
    {
      "cell_type": "code",
      "source": [
        "env = gym.make('CartPole-v1')\n",
        "obs, info = env.reset()\n",
        "\n",
        "while True:\n",
        "  action = env.action_space.sample()\n",
        "  obs, reward, terminated, truncated, info = env.step(action)\n",
        "\n",
        "  if terminated or truncated:\n",
        "    print(\"Environment reset\")\n",
        "    break\n",
        "env.close()"
      ],
      "metadata": {
        "colab": {
          "base_uri": "https://localhost:8080/"
        },
        "id": "wVKZgyoTvtsN",
        "outputId": "8679fe9d-a0cb-4eb2-c792-d81cd6da34f0"
      },
      "execution_count": 4,
      "outputs": [
        {
          "output_type": "stream",
          "name": "stdout",
          "text": [
            "Environment reset\n"
          ]
        }
      ]
    },
    {
      "cell_type": "markdown",
      "source": [
        "##Defining the model\n",
        "\n",
        "In this case we are using PPO(Proximal Policy Optimization)"
      ],
      "metadata": {
        "id": "vvlKQ1qEwu1T"
      }
    },
    {
      "cell_type": "code",
      "source": [
        "model = PPO(\n",
        "    policy = 'MlpPolicy',\n",
        "    env = env,\n",
        "    n_steps = 1024,\n",
        "    batch_size = 64,\n",
        "    n_epochs = 4,\n",
        "    gamma = 0.99,\n",
        "    gae_lambda = 0.98,\n",
        "    ent_coef = 0.01,\n",
        "    verbose = 1\n",
        ")"
      ],
      "metadata": {
        "colab": {
          "base_uri": "https://localhost:8080/"
        },
        "id": "TagbUAdkvvfS",
        "outputId": "7e78bb2b-0be7-4dc7-a6e5-2be2780ec27f"
      },
      "execution_count": 6,
      "outputs": [
        {
          "output_type": "stream",
          "name": "stderr",
          "text": [
            "/usr/local/lib/python3.10/dist-packages/ipykernel/ipkernel.py:283: DeprecationWarning: `should_run_async` will not call `transform_cell` automatically in the future. Please pass the result to `transformed_cell` argument and any exception that happen during thetransform in `preprocessing_exc_tuple` in IPython 7.17 and above.\n",
            "  and should_run_async(code)\n"
          ]
        },
        {
          "output_type": "stream",
          "name": "stdout",
          "text": [
            "Using cpu device\n",
            "Wrapping the env with a `Monitor` wrapper\n",
            "Wrapping the env in a DummyVecEnv.\n"
          ]
        }
      ]
    },
    {
      "cell_type": "code",
      "source": [
        "model.learn(total_timesteps = 10000)"
      ],
      "metadata": {
        "colab": {
          "base_uri": "https://localhost:8080/"
        },
        "id": "8mzNT3zhvzHC",
        "outputId": "e42eb07f-3922-42b3-957b-43cbfa971f6c"
      },
      "execution_count": 14,
      "outputs": [
        {
          "output_type": "stream",
          "name": "stdout",
          "text": [
            "---------------------------------\n",
            "| rollout/           |          |\n",
            "|    ep_len_mean     | 500      |\n",
            "|    ep_rew_mean     | 500      |\n",
            "| time/              |          |\n",
            "|    fps             | 1045     |\n",
            "|    iterations      | 1        |\n",
            "|    time_elapsed    | 0        |\n",
            "|    total_timesteps | 1024     |\n",
            "---------------------------------\n",
            "------------------------------------------\n",
            "| rollout/                |              |\n",
            "|    ep_len_mean          | 500          |\n",
            "|    ep_rew_mean          | 500          |\n",
            "| time/                   |              |\n",
            "|    fps                  | 815          |\n",
            "|    iterations           | 2            |\n",
            "|    time_elapsed         | 2            |\n",
            "|    total_timesteps      | 2048         |\n",
            "| train/                  |              |\n",
            "|    approx_kl            | 0.0038689577 |\n",
            "|    clip_fraction        | 0.0295       |\n",
            "|    clip_range           | 0.2          |\n",
            "|    entropy_loss         | -0.532       |\n",
            "|    explained_variance   | 0.524        |\n",
            "|    learning_rate        | 0.0003       |\n",
            "|    loss                 | 0.0551       |\n",
            "|    n_updates            | 300          |\n",
            "|    policy_gradient_loss | -0.00278     |\n",
            "|    value_loss           | 0.918        |\n",
            "------------------------------------------\n",
            "------------------------------------------\n",
            "| rollout/                |              |\n",
            "|    ep_len_mean          | 450          |\n",
            "|    ep_rew_mean          | 450          |\n",
            "| time/                   |              |\n",
            "|    fps                  | 779          |\n",
            "|    iterations           | 3            |\n",
            "|    time_elapsed         | 3            |\n",
            "|    total_timesteps      | 3072         |\n",
            "| train/                  |              |\n",
            "|    approx_kl            | 0.0053439117 |\n",
            "|    clip_fraction        | 0.0171       |\n",
            "|    clip_range           | 0.2          |\n",
            "|    entropy_loss         | -0.539       |\n",
            "|    explained_variance   | -0.052       |\n",
            "|    learning_rate        | 0.0003       |\n",
            "|    loss                 | 0.0225       |\n",
            "|    n_updates            | 304          |\n",
            "|    policy_gradient_loss | -0.000302    |\n",
            "|    value_loss           | 0.37         |\n",
            "------------------------------------------\n",
            "-----------------------------------------\n",
            "| rollout/                |             |\n",
            "|    ep_len_mean          | 462         |\n",
            "|    ep_rew_mean          | 462         |\n",
            "| time/                   |             |\n",
            "|    fps                  | 826         |\n",
            "|    iterations           | 4           |\n",
            "|    time_elapsed         | 4           |\n",
            "|    total_timesteps      | 4096        |\n",
            "| train/                  |             |\n",
            "|    approx_kl            | 0.001895396 |\n",
            "|    clip_fraction        | 0.0234      |\n",
            "|    clip_range           | 0.2         |\n",
            "|    entropy_loss         | -0.513      |\n",
            "|    explained_variance   | -0.000819   |\n",
            "|    learning_rate        | 0.0003      |\n",
            "|    loss                 | 113         |\n",
            "|    n_updates            | 308         |\n",
            "|    policy_gradient_loss | -0.00548    |\n",
            "|    value_loss           | 151         |\n",
            "-----------------------------------------\n",
            "------------------------------------------\n",
            "| rollout/                |              |\n",
            "|    ep_len_mean          | 470          |\n",
            "|    ep_rew_mean          | 470          |\n",
            "| time/                   |              |\n",
            "|    fps                  | 839          |\n",
            "|    iterations           | 5            |\n",
            "|    time_elapsed         | 6            |\n",
            "|    total_timesteps      | 5120         |\n",
            "| train/                  |              |\n",
            "|    approx_kl            | 0.0025805137 |\n",
            "|    clip_fraction        | 0.0205       |\n",
            "|    clip_range           | 0.2          |\n",
            "|    entropy_loss         | -0.527       |\n",
            "|    explained_variance   | 0.674        |\n",
            "|    learning_rate        | 0.0003       |\n",
            "|    loss                 | 0.0384       |\n",
            "|    n_updates            | 312          |\n",
            "|    policy_gradient_loss | -0.00507     |\n",
            "|    value_loss           | 0.579        |\n",
            "------------------------------------------\n",
            "------------------------------------------\n",
            "| rollout/                |              |\n",
            "|    ep_len_mean          | 475          |\n",
            "|    ep_rew_mean          | 475          |\n",
            "| time/                   |              |\n",
            "|    fps                  | 856          |\n",
            "|    iterations           | 6            |\n",
            "|    time_elapsed         | 7            |\n",
            "|    total_timesteps      | 6144         |\n",
            "| train/                  |              |\n",
            "|    approx_kl            | 0.0024951184 |\n",
            "|    clip_fraction        | 0.0227       |\n",
            "|    clip_range           | 0.2          |\n",
            "|    entropy_loss         | -0.536       |\n",
            "|    explained_variance   | -0.511       |\n",
            "|    learning_rate        | 0.0003       |\n",
            "|    loss                 | -0.000837    |\n",
            "|    n_updates            | 316          |\n",
            "|    policy_gradient_loss | 0.00127      |\n",
            "|    value_loss           | 0.172        |\n",
            "------------------------------------------\n",
            "-----------------------------------------\n",
            "| rollout/                |             |\n",
            "|    ep_len_mean          | 478         |\n",
            "|    ep_rew_mean          | 478         |\n",
            "| time/                   |             |\n",
            "|    fps                  | 872         |\n",
            "|    iterations           | 7           |\n",
            "|    time_elapsed         | 8           |\n",
            "|    total_timesteps      | 7168        |\n",
            "| train/                  |             |\n",
            "|    approx_kl            | 0.002745452 |\n",
            "|    clip_fraction        | 0.00977     |\n",
            "|    clip_range           | 0.2         |\n",
            "|    entropy_loss         | -0.52       |\n",
            "|    explained_variance   | 0.727       |\n",
            "|    learning_rate        | 0.0003      |\n",
            "|    loss                 | 0.0291      |\n",
            "|    n_updates            | 320         |\n",
            "|    policy_gradient_loss | -0.00194    |\n",
            "|    value_loss           | 0.0933      |\n",
            "-----------------------------------------\n",
            "-----------------------------------------\n",
            "| rollout/                |             |\n",
            "|    ep_len_mean          | 480         |\n",
            "|    ep_rew_mean          | 480         |\n",
            "| time/                   |             |\n",
            "|    fps                  | 882         |\n",
            "|    iterations           | 8           |\n",
            "|    time_elapsed         | 9           |\n",
            "|    total_timesteps      | 8192        |\n",
            "| train/                  |             |\n",
            "|    approx_kl            | 0.003986137 |\n",
            "|    clip_fraction        | 0.0132      |\n",
            "|    clip_range           | 0.2         |\n",
            "|    entropy_loss         | -0.537      |\n",
            "|    explained_variance   | -1.25       |\n",
            "|    learning_rate        | 0.0003      |\n",
            "|    loss                 | -0.0082     |\n",
            "|    n_updates            | 324         |\n",
            "|    policy_gradient_loss | 0.00126     |\n",
            "|    value_loss           | 0.0404      |\n",
            "-----------------------------------------\n",
            "------------------------------------------\n",
            "| rollout/                |              |\n",
            "|    ep_len_mean          | 482          |\n",
            "|    ep_rew_mean          | 482          |\n",
            "| time/                   |              |\n",
            "|    fps                  | 885          |\n",
            "|    iterations           | 9            |\n",
            "|    time_elapsed         | 10           |\n",
            "|    total_timesteps      | 9216         |\n",
            "| train/                  |              |\n",
            "|    approx_kl            | 0.0027109543 |\n",
            "|    clip_fraction        | 0.0203       |\n",
            "|    clip_range           | 0.2          |\n",
            "|    entropy_loss         | -0.532       |\n",
            "|    explained_variance   | 0.00332      |\n",
            "|    learning_rate        | 0.0003       |\n",
            "|    loss                 | 43.2         |\n",
            "|    n_updates            | 328          |\n",
            "|    policy_gradient_loss | -0.00337     |\n",
            "|    value_loss           | 156          |\n",
            "------------------------------------------\n",
            "------------------------------------------\n",
            "| rollout/                |              |\n",
            "|    ep_len_mean          | 480          |\n",
            "|    ep_rew_mean          | 480          |\n",
            "| time/                   |              |\n",
            "|    fps                  | 893          |\n",
            "|    iterations           | 10           |\n",
            "|    time_elapsed         | 11           |\n",
            "|    total_timesteps      | 10240        |\n",
            "| train/                  |              |\n",
            "|    approx_kl            | 0.0006249036 |\n",
            "|    clip_fraction        | 0            |\n",
            "|    clip_range           | 0.2          |\n",
            "|    entropy_loss         | -0.532       |\n",
            "|    explained_variance   | -0.169       |\n",
            "|    learning_rate        | 0.0003       |\n",
            "|    loss                 | 0.00282      |\n",
            "|    n_updates            | 332          |\n",
            "|    policy_gradient_loss | 0.000513     |\n",
            "|    value_loss           | 0.138        |\n",
            "------------------------------------------\n"
          ]
        },
        {
          "output_type": "execute_result",
          "data": {
            "text/plain": [
              "<stable_baselines3.ppo.ppo.PPO at 0x7e3b896950f0>"
            ]
          },
          "metadata": {},
          "execution_count": 14
        }
      ]
    },
    {
      "cell_type": "markdown",
      "source": [
        "##Evaluating the model"
      ],
      "metadata": {
        "id": "HtOldj7sw868"
      }
    },
    {
      "cell_type": "code",
      "source": [
        "eval_env = Monitor(gym.make(\"CartPole-v1\", render_mode = \"rgb_array\"))\n",
        "\n",
        "mean_reward, std_reward = evaluate_policy(model, eval_env, n_eval_episodes = 10, deterministic = True)\n",
        "print(f\"mean_reward={mean_reward:.2f} +/- {std_reward}\")"
      ],
      "metadata": {
        "colab": {
          "base_uri": "https://localhost:8080/"
        },
        "id": "ZTaH-z_6v1GI",
        "outputId": "674b902e-6959-4598-de4f-850259f19d5a"
      },
      "execution_count": 15,
      "outputs": [
        {
          "output_type": "stream",
          "name": "stdout",
          "text": [
            "mean_reward=500.00 +/- 0.0\n"
          ]
        }
      ]
    },
    {
      "cell_type": "code",
      "source": [],
      "metadata": {
        "id": "a7sSgvJrxXGy"
      },
      "execution_count": null,
      "outputs": []
    }
  ]
}